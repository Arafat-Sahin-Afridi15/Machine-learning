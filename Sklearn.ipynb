{
  "nbformat": 4,
  "nbformat_minor": 0,
  "metadata": {
    "colab": {
      "name": "Sklearn.ipynb",
      "provenance": [],
      "collapsed_sections": [],
      "mount_file_id": "1EzA0G7fAgM6OlK3jOMMZQrqVNsXaHlIG",
      "authorship_tag": "ABX9TyMjcMkxysOpugs3xtiG+S71",
      "include_colab_link": true
    },
    "kernelspec": {
      "name": "python3",
      "display_name": "Python 3"
    },
    "language_info": {
      "name": "python"
    }
  },
  "cells": [
    {
      "cell_type": "markdown",
      "metadata": {
        "id": "view-in-github",
        "colab_type": "text"
      },
      "source": [
        "<a href=\"https://colab.research.google.com/github/abkafi123/Datamining_MachineLearning_Class/blob/main/Sklearn.ipynb\" target=\"_parent\"><img src=\"https://colab.research.google.com/assets/colab-badge.svg\" alt=\"Open In Colab\"/></a>"
      ]
    },
    {
      "cell_type": "code",
      "execution_count": 103,
      "metadata": {
        "id": "glfzBxBE-0uf"
      },
      "outputs": [],
      "source": [
        "from sklearn import datasets\n",
        "import numpy as np\n",
        "\n",
        "\n",
        "iris = datasets.load_iris()\n",
        "\n",
        "X = iris.data\n",
        "y = iris.target"
      ]
    },
    {
      "cell_type": "code",
      "source": [
        "import inspect \n",
        "\n",
        "print(inspect.getmembers(datasets))"
      ],
      "metadata": {
        "id": "4UWuUImughMO"
      },
      "execution_count": null,
      "outputs": []
    },
    {
      "cell_type": "code",
      "source": [
        "#spliting the datast \n",
        "\n",
        "from sklearn.model_selection import train_test_split\n",
        "\n",
        "\n",
        "X_train, X_test, y_train, y_test = train_test_split(X,y,test_size=.2)\n",
        "\n",
        "print(X_train.shape, X_test.shape, y_train.shape, y_test.shape)"
      ],
      "metadata": {
        "colab": {
          "base_uri": "https://localhost:8080/"
        },
        "id": "M_vV6jCog6GA",
        "outputId": "8394a5fd-de51-4081-943f-641b2f1acc56"
      },
      "execution_count": 105,
      "outputs": [
        {
          "output_type": "stream",
          "name": "stdout",
          "text": [
            "(120, 4) (30, 4) (120,) (30,)\n"
          ]
        }
      ]
    },
    {
      "cell_type": "code",
      "source": [
        "from sklearn import neighbors\n",
        "from sklearn import metrics\n",
        "\n",
        "knn = neighbors.KNeighborsClassifier(n_neighbors=15, weights='distance')\n",
        "knn.fit(X_train, y_train)\n",
        "prediction = knn.predict(X_test)\n",
        "accuracy = metrics.accuracy_score(y_test, prediction)\n",
        "print(\"Prediction \", prediction,\"\\naccuracy \", accuracy)\n",
        "print(y_test)\n",
        "print('length of y',len(y_test))\n",
        "print('length of prediction', len(prediction))"
      ],
      "metadata": {
        "id": "qCa8xVIWjUgZ"
      },
      "execution_count": null,
      "outputs": []
    },
    {
      "cell_type": "markdown",
      "source": [
        "use svm { model = svm.SVC()"
      ],
      "metadata": {
        "id": "jV1QY_ts1VbW"
      }
    },
    {
      "cell_type": "code",
      "source": [
        "#@title SVM\n",
        "from sklearn import svm\n",
        "from sklearn import metrics\n",
        "\n",
        "support = svm.SVC()\n",
        "support.fit(X_train, y_train)\n",
        "prediction = support.predict(X_test)\n",
        "accuracy = metrics.accuracy_score(y_test, prediction)\n",
        "print(\"Prediction \", prediction,\"\\naccuracy \", accuracy)\n",
        "print(y_test)\n",
        "print('length of y',len(y_test))\n",
        "print('length of prediction', len(prediction))"
      ],
      "metadata": {
        "cellView": "form",
        "id": "0hPSflx405FF"
      },
      "execution_count": null,
      "outputs": []
    },
    {
      "cell_type": "markdown",
      "source": [
        "#car evaluation \n",
        "https://archive.ics.uci.edu/ml/machine-learning-databases/car/"
      ],
      "metadata": {
        "id": "KBC2NrItnlMW"
      }
    },
    {
      "cell_type": "code",
      "source": [
        "import pandas as pd\n",
        "car_data = pd.read_csv(\"/content/drive/MyDrive/Project/car.data\")\n",
        "\n"
      ],
      "metadata": {
        "id": "GSY7ajt_pBYJ"
      },
      "execution_count": null,
      "outputs": []
    },
    {
      "cell_type": "code",
      "source": [
        "#editing column names\n",
        "car_data.columns = ['Buying', 'Maint', 'Doors', 'Persons', 'Lug_boot', 'Safety','Class']\n",
        "print(car_data.head())"
      ],
      "metadata": {
        "colab": {
          "base_uri": "https://localhost:8080/"
        },
        "id": "cCJ9ewK7qID8",
        "outputId": "ad2bafae-41e2-4b28-8bde-5d5936c0d50a"
      },
      "execution_count": 88,
      "outputs": [
        {
          "output_type": "stream",
          "name": "stdout",
          "text": [
            "  Buying  Maint Doors Persons Lug_boot Safety  Class\n",
            "0  vhigh  vhigh     2       2    small    med  unacc\n",
            "1  vhigh  vhigh     2       2    small   high  unacc\n",
            "2  vhigh  vhigh     2       2      med    low  unacc\n",
            "3  vhigh  vhigh     2       2      med    med  unacc\n",
            "4  vhigh  vhigh     2       2      med   high  unacc\n"
          ]
        }
      ]
    },
    {
      "cell_type": "code",
      "source": [
        "X = car_data[['Buying', \"Maint\", 'Safety']]\n",
        "y = car_data[[\"Class\"]]"
      ],
      "metadata": {
        "id": "Oe3C_xBaqR9X"
      },
      "execution_count": 96,
      "outputs": []
    },
    {
      "cell_type": "code",
      "source": [
        "print(type(X))\n",
        "print(X.head(5))\n",
        "print(y.head())"
      ],
      "metadata": {
        "colab": {
          "base_uri": "https://localhost:8080/"
        },
        "id": "nGC92OkfqzkD",
        "outputId": "fba31cfd-93ea-452e-8840-8032533eb21e"
      },
      "execution_count": 97,
      "outputs": [
        {
          "output_type": "stream",
          "name": "stdout",
          "text": [
            "<class 'pandas.core.frame.DataFrame'>\n",
            "  Buying  Maint Safety\n",
            "0  vhigh  vhigh    med\n",
            "1  vhigh  vhigh   high\n",
            "2  vhigh  vhigh    low\n",
            "3  vhigh  vhigh    med\n",
            "4  vhigh  vhigh   high\n",
            "   Class\n",
            "0  unacc\n",
            "1  unacc\n",
            "2  unacc\n",
            "3  unacc\n",
            "4  unacc\n"
          ]
        }
      ]
    },
    {
      "cell_type": "code",
      "source": [
        "from sklearn.preprocessing import LabelEncoder\n",
        "X = X.apply(LabelEncoder().fit_transform)"
      ],
      "metadata": {
        "id": "GNm2_nYcxRjZ"
      },
      "execution_count": 98,
      "outputs": []
    },
    {
      "cell_type": "code",
      "source": [
        "dictionary_map = {\n",
        "    'unacc': 0, \n",
        "    'acc' : 1,\n",
        "    'good':2,\n",
        "    'vgood':3\n",
        "    }\n",
        "\n",
        "y['Class'] = pd.array(y['Class'].map(dictionary_map))\n",
        "#old and  . better not use it . \n"
      ],
      "metadata": {
        "colab": {
          "base_uri": "https://localhost:8080/"
        },
        "id": "-ckJaw-4p-Ad",
        "outputId": "64b1a860-cec3-457d-8880-49975ffdfd6d"
      },
      "execution_count": 99,
      "outputs": [
        {
          "output_type": "stream",
          "name": "stderr",
          "text": [
            "/usr/local/lib/python3.7/dist-packages/ipykernel_launcher.py:8: SettingWithCopyWarning: \n",
            "A value is trying to be set on a copy of a slice from a DataFrame.\n",
            "Try using .loc[row_indexer,col_indexer] = value instead\n",
            "\n",
            "See the caveats in the documentation: https://pandas.pydata.org/pandas-docs/stable/user_guide/indexing.html#returning-a-view-versus-a-copy\n",
            "  \n"
          ]
        }
      ]
    },
    {
      "cell_type": "code",
      "source": [
        "print(y.tail())\n"
      ],
      "metadata": {
        "colab": {
          "base_uri": "https://localhost:8080/"
        },
        "id": "nYfXWjvwuksy",
        "outputId": "baeac61c-9526-421f-bc25-109bd9450791"
      },
      "execution_count": 100,
      "outputs": [
        {
          "output_type": "stream",
          "name": "stdout",
          "text": [
            "      Class\n",
            "1722      2\n",
            "1723      3\n",
            "1724      0\n",
            "1725      2\n",
            "1726      3\n"
          ]
        }
      ]
    },
    {
      "cell_type": "markdown",
      "source": [
        "#try the knn classifire now.. "
      ],
      "metadata": {
        "id": "UsK817K2uyyr"
      }
    },
    {
      "cell_type": "code",
      "source": [
        "#@title solve { display-mode: \"form\" }\n",
        "X_train, X_test, y_train, y_test = train_test_split(X,y,test_size=.2)\n",
        "\n",
        "knn.fit(X_train, y_train)\n",
        "prediction = knn.predict(X_test)\n",
        "accuracy = metrics.accuracy_score(y_test, prediction)\n",
        "print(\"accuracy \", accuracy)\n",
        "print('length of y',len(y_test))\n",
        "print('length of prediction', len(prediction))"
      ],
      "metadata": {
        "id": "eAtkB9Xru1w4"
      },
      "execution_count": null,
      "outputs": []
    },
    {
      "cell_type": "code",
      "source": [
        ""
      ],
      "metadata": {
        "id": "fOrEYyNVvQkL"
      },
      "execution_count": null,
      "outputs": []
    },
    {
      "cell_type": "code",
      "source": [
        ""
      ],
      "metadata": {
        "id": "B-JhiQwT0AD5"
      },
      "execution_count": null,
      "outputs": []
    }
  ]
}
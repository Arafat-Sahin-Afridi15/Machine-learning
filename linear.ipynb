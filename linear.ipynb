{
 "cells": [
  {
   "cell_type": "markdown",
   "metadata": {},
   "source": [
    "# Classification vs Regression\n",
    "\n",
    "**Classification** : There are two major types of supervised machine learning problems, called classifica‐\n",
    "tion and regression.\n",
    "\n",
    "**Regression** : Regression tasks, the goal is to predict a continuous number, or a floating-point\n",
    "number in programming terms (or real number in mathematical terms). Predicting a\n",
    "person’s annual income from their education, their age, and where they live is an\n",
    "example of a regression task."
   ]
  },
  {
   "cell_type": "markdown",
   "metadata": {},
   "source": [
    "## Linear Models\n",
    "Linear models are a class of models that are widely used in practice. Linear models make a prediction using a linear function of the input features.\n",
    "For regression, the general prediction formula for a linear model looks as follows:\n",
    "\n",
    "ŷ = w[0] * x[0] + w[1] * x[1] + ... + w[p] * x[p] + b\n",
    "\n",
    "for a single datapoint\n",
    "ŷ = w[0] * x[0] + b\n",
    "\n",
    "\n",
    "\n",
    "\n",
    "Mean Squared Error (MSE) cost function is used"
   ]
  },
  {
   "cell_type": "markdown",
   "metadata": {},
   "source": [
    "## link of the dataset\n",
    "\n",
    "https://archive.ics.uci.edu/ml/datasets/Air+Quality"
   ]
  },
  {
   "cell_type": "code",
   "execution_count": 39,
   "metadata": {},
   "outputs": [],
   "source": [
    "from sklearn.linear_model import LinearRegression\n",
    "from sklearn.model_selection import train_test_split\n",
    "from sklearn import datasets\n",
    "import pandas as pd\n",
    "\n",
    "df = pd.read_excel('./data/AirQualityUCI.xlsx')"
   ]
  },
  {
   "cell_type": "code",
   "execution_count": 40,
   "metadata": {},
   "outputs": [
    {
     "name": "stdout",
     "output_type": "stream",
     "text": [
      "           Date      Time  CO(GT)  ...       T         RH        AH\n",
      "0    2004-03-10  18:00:00     2.6  ...  13.600  48.875001  0.757754\n",
      "1    2004-03-10  19:00:00     2.0  ...  13.300  47.700000  0.725487\n",
      "2    2004-03-10  20:00:00     2.2  ...  11.900  53.975000  0.750239\n",
      "3    2004-03-10  21:00:00     2.2  ...  11.000  60.000000  0.786713\n",
      "4    2004-03-10  22:00:00     1.6  ...  11.150  59.575001  0.788794\n",
      "...         ...       ...     ...  ...     ...        ...       ...\n",
      "9352 2005-04-04  10:00:00     3.1  ...  21.850  29.250000  0.756824\n",
      "9353 2005-04-04  11:00:00     2.4  ...  24.325  23.725000  0.711864\n",
      "9354 2005-04-04  12:00:00     2.4  ...  26.900  18.350000  0.640649\n",
      "9355 2005-04-04  13:00:00     2.1  ...  28.325  13.550000  0.513866\n",
      "9356 2005-04-04  14:00:00     2.2  ...  28.500  13.125000  0.502804\n",
      "\n",
      "[9357 rows x 15 columns]\n"
     ]
    }
   ],
   "source": [
    "print(df)"
   ]
  },
  {
   "cell_type": "code",
   "execution_count": 43,
   "metadata": {},
   "outputs": [
    {
     "name": "stdout",
     "output_type": "stream",
     "text": [
      "Index(['Date', 'Time', 'CO(GT)', 'PT08.S1(CO)', 'NMHC(GT)', 'C6H6(GT)',\n",
      "       'PT08.S2(NMHC)', 'NOx(GT)', 'PT08.S3(NOx)', 'NO2(GT)', 'PT08.S4(NO2)',\n",
      "       'PT08.S5(O3)', 'T', 'RH', 'AH'],\n",
      "      dtype='object')\n",
      "           Date      Time  CO(GT)  ...       T         RH        AH\n",
      "0    2004-03-10  18:00:00     2.6  ...  13.600  48.875001  0.757754\n",
      "1    2004-03-10  19:00:00     2.0  ...  13.300  47.700000  0.725487\n",
      "2    2004-03-10  20:00:00     2.2  ...  11.900  53.975000  0.750239\n",
      "3    2004-03-10  21:00:00     2.2  ...  11.000  60.000000  0.786713\n",
      "4    2004-03-10  22:00:00     1.6  ...  11.150  59.575001  0.788794\n",
      "...         ...       ...     ...  ...     ...        ...       ...\n",
      "9352 2005-04-04  10:00:00     3.1  ...  21.850  29.250000  0.756824\n",
      "9353 2005-04-04  11:00:00     2.4  ...  24.325  23.725000  0.711864\n",
      "9354 2005-04-04  12:00:00     2.4  ...  26.900  18.350000  0.640649\n",
      "9355 2005-04-04  13:00:00     2.1  ...  28.325  13.550000  0.513866\n",
      "9356 2005-04-04  14:00:00     2.2  ...  28.500  13.125000  0.502804\n",
      "\n",
      "[9357 rows x 15 columns]\n"
     ]
    }
   ],
   "source": [
    "print(df.columns)\n",
    "print(df.dropna())\n",
    "data = df[['T','RH']]"
   ]
  },
  {
   "cell_type": "code",
   "execution_count": 44,
   "metadata": {},
   "outputs": [
    {
     "name": "stdout",
     "output_type": "stream",
     "text": [
      "           T         RH\n",
      "0     13.600  48.875001\n",
      "1     13.300  47.700000\n",
      "2     11.900  53.975000\n",
      "3     11.000  60.000000\n",
      "4     11.150  59.575001\n",
      "...      ...        ...\n",
      "9352  21.850  29.250000\n",
      "9353  24.325  23.725000\n",
      "9354  26.900  18.350000\n",
      "9355  28.325  13.550000\n",
      "9356  28.500  13.125000\n",
      "\n",
      "[9357 rows x 2 columns]\n"
     ]
    }
   ],
   "source": [
    "print(data)"
   ]
  },
  {
   "cell_type": "code",
   "execution_count": 49,
   "metadata": {},
   "outputs": [
    {
     "name": "stdout",
     "output_type": "stream",
     "text": [
      "9357\n",
      "9357\n",
      "<class 'pandas.core.frame.DataFrame'>\n",
      "<class 'pandas.core.frame.DataFrame'>\n"
     ]
    }
   ],
   "source": [
    "X = data[['T']]\n",
    "Y = data[['RH']]\n",
    "print(len(X))\n",
    "print(len(Y))\n",
    "print(type(X))\n",
    "print(type(Y))\n"
   ]
  },
  {
   "cell_type": "code",
   "execution_count": 50,
   "metadata": {},
   "outputs": [
    {
     "name": "stdout",
     "output_type": "stream",
     "text": [
      "7485 1872\n"
     ]
    }
   ],
   "source": [
    "\n",
    "X_train, X_test, y_train, y_test = train_test_split(X, Y, random_state=42,test_size=0.2)\n",
    "print(len(X_train),len(X_test))\n",
    "\n"
   ]
  },
  {
   "cell_type": "code",
   "execution_count": 53,
   "metadata": {},
   "outputs": [],
   "source": [
    "lr = LinearRegression().fit(X_train, y_train)"
   ]
  },
  {
   "cell_type": "code",
   "execution_count": 54,
   "metadata": {},
   "outputs": [
    {
     "name": "stdout",
     "output_type": "stream",
     "text": [
      "Training set score: 0.79\n",
      "Test set score: 0.78\n"
     ]
    }
   ],
   "source": [
    "print(\"Training set score: {:.2f}\".format(lr.score(X_train, y_train)))\n",
    "print(\"Test set score: {:.2f}\".format(lr.score(X_test, y_test)))"
   ]
  },
  {
   "cell_type": "code",
   "execution_count": 55,
   "metadata": {},
   "outputs": [
    {
     "name": "stdout",
     "output_type": "stream",
     "text": [
      "[[56.69411832]\n",
      " [53.61707483]\n",
      " [55.79993491]\n",
      " ...\n",
      " [57.95649436]\n",
      " [53.69597318]\n",
      " [49.80364462]]\n"
     ]
    }
   ],
   "source": [
    "ypred = lr.predict(X_test)\n",
    "print(ypred)"
   ]
  },
  {
   "cell_type": "code",
   "execution_count": 70,
   "metadata": {
    "scrolled": true
   },
   "outputs": [
    {
     "data": {
      "text/plain": [
       "[<matplotlib.lines.Line2D at 0x283345b20>]"
      ]
     },
     "execution_count": 70,
     "metadata": {},
     "output_type": "execute_result"
    },
    {
     "data": {
      "image/png": "[encoded data removed]",
      "text/plain": [
       "<Figure size 432x288 with 1 Axes>"
      ]
     },
     "metadata": {
      "needs_background": "light"
     },
     "output_type": "display_data"
    }
   ],
   "source": [
    "import matplotlib.pyplot as plt \n",
    "plt.scatter(X,Y,marker =\".\")\n",
    "plt.plot(X_test,ypred)\n",
    "# plt.xlim([-10, 100])\n",
    "# plt.ylim([-10, 100])"
   ]
  },
  {
   "cell_type": "markdown",
   "metadata": {},
   "source": [
    "try your knowledge on this\n",
    "\n",
    "https://archive.ics.uci.edu/ml/datasets/BlogFeedback\n",
    "\n",
    "also try to use logistic regression and find out the results."
   ]
  }
 ],
 "metadata": {
  "kernelspec": {
   "display_name": "Python 3 (ipykernel)",
   "language": "python",
   "name": "python3"
  },
  "language_info": {
   "codemirror_mode": {
    "name": "ipython",
    "version": 3
   },
   "file_extension": ".py",
   "mimetype": "text/x-python",
   "name": "python",
   "nbconvert_exporter": "python",
   "pygments_lexer": "ipython3",
   "version": "3.8.13"
  }
 },
 "nbformat": 4,
 "nbformat_minor": 2
}
